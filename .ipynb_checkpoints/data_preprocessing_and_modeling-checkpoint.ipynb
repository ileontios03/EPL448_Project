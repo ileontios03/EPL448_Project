{
 "cells": [
  {
   "cell_type": "markdown",
   "id": "be4b2d34-ab5f-4203-9924-7100fab2060a",
   "metadata": {},
   "source": [
    "# Splitting the Dataset\r\n",
    "\r\n",
    "In this step, the dataset is divided into **training** and **test** sets. The training set is used to train machine learning models, while the test set will be used to evaluate the model's performance.\r\n",
    "\r\n",
    "We are using an **80-20** split, where 80% of the data is used for training, and 20% is used for testing. The splitting process is randomized to ensure that the model generalizes well.\r\n"
   ]
  },
  {
   "cell_type": "code",
   "execution_count": 3,
   "id": "91ccba4b-0aff-4aea-869a-c66bc9a3cad3",
   "metadata": {},
   "outputs": [],
   "source": [
    "# Import libraries\n",
    "import pandas as pd\n",
    "import seaborn as sns\n",
    "import matplotlib.pyplot as plt"
   ]
  },
  {
   "cell_type": "code",
   "execution_count": 4,
   "id": "85615b5e-cdc5-488b-83fe-d296d1be15fb",
   "metadata": {},
   "outputs": [],
   "source": [
    "# Load dataset\n",
    "df = pd.read_csv('alzheimers_prediction_dataset.csv')"
   ]
  },
  {
   "cell_type": "markdown",
   "id": "014b8681-6ec4-4076-99b1-06a1ad62be44",
   "metadata": {},
   "source": [
    "## Train-Test Split\n",
    "\n",
    "In this step, we split the dataset into training and testing sets using the **train_test_split** function from **scikit-learn**:\n",
    "\n",
    "1. **Feature Set (X)**: We drop the target column (**Alzheimers Diagnosis**) and store the rest of the features in **X**.\n",
    "2. **Target Variable (y)**: The target variable is **Alzheimers Diagnosis**, which we convert to binary values (`0` for 'No' and `1` for 'Yes').\n",
    "\n",
    "We perform an **80-20 train-test split**, ensuring the target variable is stratified so that the distribution of 'Yes' and 'No' diagnoses remains similar in both the training and test sets.\n",
    "\n",
    "- **Training Set (X_train, y_train)**: 80% of the data.\n",
    "- **Test Set (X_test, y_test)**: 20% of the data.\n",
    "\n",
    "The sizes of the resulting training and test sets are printed for verification.\n"
   ]
  },
  {
   "cell_type": "code",
   "execution_count": 6,
   "id": "2ce648f8-b049-4525-ba3f-65348fdd889d",
   "metadata": {},
   "outputs": [
    {
     "name": "stdout",
     "output_type": "stream",
     "text": [
      "Training set size: 59426 samples\n",
      "Test set size: 14857 samples\n"
     ]
    }
   ],
   "source": [
    "from sklearn.model_selection import train_test_split\n",
    "\n",
    "# Drop the target column and store it separately\n",
    "X = df.drop(columns=['Alzheimer’s Diagnosis'])\n",
    "y = df['Alzheimer’s Diagnosis'].map({'No': 0, 'Yes': 1})  # convert to binary\n",
    "\n",
    "# Early train-test split (80% train, 20% test)\n",
    "X_train, X_test, y_train, y_test = train_test_split(\n",
    "    X, y, test_size=0.2, random_state=42, stratify=y\n",
    ")\n",
    "\n",
    "print(f\"Training set size: {X_train.shape[0]} samples\")\n",
    "print(f\"Test set size: {X_test.shape[0]} samples\")\n"
   ]
  },
  {
   "cell_type": "markdown",
   "id": "2da4f9e1-4604-457a-a1fc-15b8ea40a9b4",
   "metadata": {},
   "source": [
    "## Checking the Shape of Train and Test Sets\n",
    "\n",
    "After splitting the dataset, we check the shapes of the training and test sets for both the features and the target variable:\n",
    "\n",
    "- **X_train**: Features of the training set.\n",
    "- **X_test**: Features of the test set.\n",
    "- **y_train**: Target variable (Alzheimer's Diagnosis) for the training set.\n",
    "- **y_test**: Target variable (Alzheimer's Diagnosis) for the test set.\n",
    "\n",
    "This step helps confirm the sizes of each set, ensuring they match the expected proportions after the **train-test split**.\n"
   ]
  },
  {
   "cell_type": "code",
   "execution_count": 7,
   "id": "59a36913-06ca-4cac-b9d3-3077c9d0d195",
   "metadata": {},
   "outputs": [
    {
     "name": "stdout",
     "output_type": "stream",
     "text": [
      "Shape of X_Train (59426, 24)\n",
      "Shape of X_Test (14857, 24)\n",
      "Shape of Y_Train (59426,)\n",
      "Shape of Y_Test (14857,)\n"
     ]
    }
   ],
   "source": [
    "print(f'Shape of X_Train {X_train.shape}')\n",
    "print(f'Shape of X_Test {X_test.shape}')\n",
    "print(f'Shape of Y_Train {y_train.shape}')\n",
    "print(f'Shape of Y_Test {y_test.shape}')"
   ]
  }
 ],
 "metadata": {
  "kernelspec": {
   "display_name": "Python 3 (ipykernel)",
   "language": "python",
   "name": "python3"
  },
  "language_info": {
   "codemirror_mode": {
    "name": "ipython",
    "version": 3
   },
   "file_extension": ".py",
   "mimetype": "text/x-python",
   "name": "python",
   "nbconvert_exporter": "python",
   "pygments_lexer": "ipython3",
   "version": "3.11.7"
  }
 },
 "nbformat": 4,
 "nbformat_minor": 5
}
