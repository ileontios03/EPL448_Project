{
 "cells": [
  {
   "metadata": {},
   "cell_type": "code",
   "outputs": [],
   "execution_count": null,
   "source": [
    "# Import libraries\n",
    "import pandas as pd"
   ],
   "id": "644213dd80ba5542"
  },
  {
   "metadata": {},
   "cell_type": "code",
   "outputs": [],
   "execution_count": null,
   "source": [
    "# Load dataset\n",
    "df = pd.read_csv('alzheimers_data.csv')"
   ],
   "id": "d43f5de4a442453"
  },
  {
   "metadata": {},
   "cell_type": "markdown",
   "source": "## Exploratory Data Analysis",
   "id": "8decdadfa2a97ee5"
  },
  {
   "metadata": {},
   "cell_type": "code",
   "outputs": [],
   "execution_count": null,
   "source": [
    "# Print 5 first observations \n",
    "df.head()"
   ],
   "id": "45907abecfa1be92"
  }
 ],
 "metadata": {},
 "nbformat": 4,
 "nbformat_minor": 5
}
